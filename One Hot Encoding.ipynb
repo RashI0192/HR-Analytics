{
  "cells": [
    {
      "cell_type": "markdown",
      "metadata": {
        "id": "3ppBl5nCCZ53"
      },
      "source": [
        "## 3 diverse problem statements to explore different perspectives:\n",
        "\n",
        "- Employee Attrition Analysis: To understand and predict attrition rates.\n",
        "- Employee Satisfaction and Retention: To improve satisfaction and retention.\n",
        "- Performance and Compensation: To analyze if compensation aligns with performance.\n"
      ]
    },
    {
      "cell_type": "code",
      "execution_count": 96,
      "metadata": {
        "colab": {
          "base_uri": "https://localhost:8080/"
        },
        "id": "rv2JF6_MA3lO",
        "outputId": "1cd5cd8e-6d4d-49ad-8dc9-f43701f2e2a0"
      },
      "outputs": [
        {
          "name": "stdout",
          "output_type": "stream",
          "text": [
            "Non-numeric columns: Index(['over18', 'educationfield', 'attrition', 'maritalstatus', 'department',\n",
            "       'jobrole', 'overtime', 'businesstravel', 'gender'],\n",
            "      dtype='object')\n"
          ]
        }
      ],
      "source": [
        "# Identifying  all non-numeric columns (including object types)\n",
        "non_numeric_cols = combined_df.select_dtypes(exclude=['number']).columns\n",
        "print(\"Non-numeric columns:\", non_numeric_cols)"
      ]
    },
    {
      "cell_type": "code",
      "execution_count": 97,
      "metadata": {
        "colab": {
          "base_uri": "https://localhost:8080/"
        },
        "id": "uvjdCx-9DqT0",
        "outputId": "824efdaf-df46-4a9c-b04b-28707f90ecf5"
      },
      "outputs": [
        {
          "name": "stdout",
          "output_type": "stream",
          "text": [
            "Unique values in 'over18':\n",
            "['Y']\n",
            "\n",
            "Unique values in 'educationfield':\n",
            "['Life Sciences' 'Other' 'Medical' 'Marketing' 'Technical Degree'\n",
            " 'Human Resources']\n",
            "\n",
            "Unique values in 'attrition':\n",
            "['Yes' 'No']\n",
            "\n",
            "Unique values in 'maritalstatus':\n",
            "['Single' 'Married' 'Divorced']\n",
            "\n",
            "Unique values in 'department':\n",
            "['Sales' 'Research & Development' 'Human Resources']\n",
            "\n",
            "Unique values in 'jobrole':\n",
            "['Sales Executive' 'Research Scientist' 'Laboratory Technician'\n",
            " 'Manufacturing Director' 'Healthcare Representative' 'Manager'\n",
            " 'Sales Representative' 'Research Director' 'Human Resources']\n",
            "\n",
            "Unique values in 'overtime':\n",
            "['Yes' 'No']\n",
            "\n",
            "Unique values in 'businesstravel':\n",
            "['Travel_Rarely' 'Travel_Frequently' 'Non-Travel']\n",
            "\n",
            "Unique values in 'gender':\n",
            "['Female' 'Male']\n",
            "\n"
          ]
        }
      ],
      "source": [
        "for col in non_numeric_cols:\n",
        "    print(f\"Unique values in '{col}':\")\n",
        "    print(combined_df[col].unique())\n",
        "    print()"
      ]
    },
    {
      "cell_type": "code",
      "execution_count": 100,
      "metadata": {
        "colab": {
          "base_uri": "https://localhost:8080/",
          "height": 1000
        },
        "id": "eOsbAKsLJxYA",
        "outputId": "af6cd3d9-8876-4158-de10-fc5106b6831f"
      },
      "outputs": [
        {
          "data": {
            "text/html": [
              "<div>\n",
              "<style scoped>\n",
              "    .dataframe tbody tr th:only-of-type {\n",
              "        vertical-align: middle;\n",
              "    }\n",
              "\n",
              "    .dataframe tbody tr th {\n",
              "        vertical-align: top;\n",
              "    }\n",
              "\n",
              "    .dataframe thead th {\n",
              "        text-align: right;\n",
              "    }\n",
              "</style>\n",
              "<table border=\"1\" class=\"dataframe\">\n",
              "  <thead>\n",
              "    <tr style=\"text-align: right;\">\n",
              "      <th></th>\n",
              "      <th>0</th>\n",
              "    </tr>\n",
              "  </thead>\n",
              "  <tbody>\n",
              "    <tr>\n",
              "      <th>over18</th>\n",
              "      <td>1</td>\n",
              "    </tr>\n",
              "    <tr>\n",
              "      <th>monthlyincome</th>\n",
              "      <td>1349</td>\n",
              "    </tr>\n",
              "    <tr>\n",
              "      <th>educationfield</th>\n",
              "      <td>6</td>\n",
              "    </tr>\n",
              "    <tr>\n",
              "      <th>attrition</th>\n",
              "      <td>2</td>\n",
              "    </tr>\n",
              "    <tr>\n",
              "      <th>distancefromhome</th>\n",
              "      <td>29</td>\n",
              "    </tr>\n",
              "    <tr>\n",
              "      <th>dailyrate</th>\n",
              "      <td>886</td>\n",
              "    </tr>\n",
              "    <tr>\n",
              "      <th>joblevel</th>\n",
              "      <td>5</td>\n",
              "    </tr>\n",
              "    <tr>\n",
              "      <th>numcompaniesworked</th>\n",
              "      <td>10</td>\n",
              "    </tr>\n",
              "    <tr>\n",
              "      <th>monthlyrate</th>\n",
              "      <td>1427</td>\n",
              "    </tr>\n",
              "    <tr>\n",
              "      <th>stockoptionlevel</th>\n",
              "      <td>4</td>\n",
              "    </tr>\n",
              "    <tr>\n",
              "      <th>education</th>\n",
              "      <td>5</td>\n",
              "    </tr>\n",
              "    <tr>\n",
              "      <th>percentsalaryhike</th>\n",
              "      <td>15</td>\n",
              "    </tr>\n",
              "    <tr>\n",
              "      <th>maritalstatus</th>\n",
              "      <td>3</td>\n",
              "    </tr>\n",
              "    <tr>\n",
              "      <th>worklifebalance</th>\n",
              "      <td>4</td>\n",
              "    </tr>\n",
              "    <tr>\n",
              "      <th>yearsincurrentrole</th>\n",
              "      <td>19</td>\n",
              "    </tr>\n",
              "    <tr>\n",
              "      <th>performancerating</th>\n",
              "      <td>2</td>\n",
              "    </tr>\n",
              "    <tr>\n",
              "      <th>department</th>\n",
              "      <td>3</td>\n",
              "    </tr>\n",
              "    <tr>\n",
              "      <th>yearssincelastpromotion</th>\n",
              "      <td>16</td>\n",
              "    </tr>\n",
              "    <tr>\n",
              "      <th>employeenumber</th>\n",
              "      <td>1470</td>\n",
              "    </tr>\n",
              "    <tr>\n",
              "      <th>trainingtimeslastyear</th>\n",
              "      <td>7</td>\n",
              "    </tr>\n",
              "    <tr>\n",
              "      <th>totalworkingyears</th>\n",
              "      <td>40</td>\n",
              "    </tr>\n",
              "    <tr>\n",
              "      <th>jobrole</th>\n",
              "      <td>9</td>\n",
              "    </tr>\n",
              "    <tr>\n",
              "      <th>overtime</th>\n",
              "      <td>2</td>\n",
              "    </tr>\n",
              "    <tr>\n",
              "      <th>hourlyrate</th>\n",
              "      <td>71</td>\n",
              "    </tr>\n",
              "    <tr>\n",
              "      <th>yearsatcompany</th>\n",
              "      <td>37</td>\n",
              "    </tr>\n",
              "    <tr>\n",
              "      <th>businesstravel</th>\n",
              "      <td>3</td>\n",
              "    </tr>\n",
              "    <tr>\n",
              "      <th>gender</th>\n",
              "      <td>2</td>\n",
              "    </tr>\n",
              "    <tr>\n",
              "      <th>age</th>\n",
              "      <td>43</td>\n",
              "    </tr>\n",
              "    <tr>\n",
              "      <th>employeecount</th>\n",
              "      <td>1</td>\n",
              "    </tr>\n",
              "    <tr>\n",
              "      <th>relationshipsatisfaction</th>\n",
              "      <td>4</td>\n",
              "    </tr>\n",
              "    <tr>\n",
              "      <th>standardhours</th>\n",
              "      <td>1</td>\n",
              "    </tr>\n",
              "    <tr>\n",
              "      <th>jobsatisfaction</th>\n",
              "      <td>4</td>\n",
              "    </tr>\n",
              "    <tr>\n",
              "      <th>yearswithcurrmanager</th>\n",
              "      <td>18</td>\n",
              "    </tr>\n",
              "    <tr>\n",
              "      <th>environmentsatisfaction</th>\n",
              "      <td>4</td>\n",
              "    </tr>\n",
              "    <tr>\n",
              "      <th>jobinvolvement</th>\n",
              "      <td>4</td>\n",
              "    </tr>\n",
              "  </tbody>\n",
              "</table>\n",
              "</div><br><label><b>dtype:</b> int64</label>"
            ],
            "text/plain": [
              "over18                         1\n",
              "monthlyincome               1349\n",
              "educationfield                 6\n",
              "attrition                      2\n",
              "distancefromhome              29\n",
              "dailyrate                    886\n",
              "joblevel                       5\n",
              "numcompaniesworked            10\n",
              "monthlyrate                 1427\n",
              "stockoptionlevel               4\n",
              "education                      5\n",
              "percentsalaryhike             15\n",
              "maritalstatus                  3\n",
              "worklifebalance                4\n",
              "yearsincurrentrole            19\n",
              "performancerating              2\n",
              "department                     3\n",
              "yearssincelastpromotion       16\n",
              "employeenumber              1470\n",
              "trainingtimeslastyear          7\n",
              "totalworkingyears             40\n",
              "jobrole                        9\n",
              "overtime                       2\n",
              "hourlyrate                    71\n",
              "yearsatcompany                37\n",
              "businesstravel                 3\n",
              "gender                         2\n",
              "age                           43\n",
              "employeecount                  1\n",
              "relationshipsatisfaction       4\n",
              "standardhours                  1\n",
              "jobsatisfaction                4\n",
              "yearswithcurrmanager          18\n",
              "environmentsatisfaction        4\n",
              "jobinvolvement                 4\n",
              "dtype: int64"
            ]
          },
          "execution_count": 100,
          "metadata": {},
          "output_type": "execute_result"
        }
      ],
      "source": [
        "import matplotlib.pyplot as plt\n",
        "\n",
        "# Assuming combined_df is the DataFrame that contains your data\n",
        "unique_values_count = combined_df.nunique()\n",
        "unique_values_count\n"
      ]
    },
    {
      "cell_type": "code",
      "execution_count": 148,
      "metadata": {
        "id": "lROit_bhDqQf"
      },
      "outputs": [],
      "source": [
        "# Drop the 'over18' column as all working force is over 18 \n",
        "combined_df = combined_df.drop('over18', axis=1)\n",
        "\n",
        "\n"
      ]
    },
    {
      "cell_type": "code",
      "execution_count": 149,
      "metadata": {
        "id": "JD8anKjqEJNK"
      },
      "outputs": [],
      "source": [
        "# Label encoding for binary categorical columns\n",
        "binary_columns = ['overtime', 'gender','attrition']\n",
        "for col in binary_columns:\n",
        "    combined_df[col] = combined_df[col].map({'Yes': 1, 'No': 0, 'Female': 0, 'Male': 1})\n",
        "\n"
      ]
    },
    {
      "cell_type": "code",
      "execution_count": 150,
      "metadata": {
        "colab": {
          "base_uri": "https://localhost:8080/"
        },
        "id": "wzCKwzYBEJKo",
        "outputId": "a48645e2-d4a1-4000-bcb4-a0cb51cace37"
      },
      "outputs": [
        {
          "name": "stdout",
          "output_type": "stream",
          "text": [
            "Label encoding for 'educationfield':\n",
            "{'Human Resources': 0, 'Life Sciences': 1, 'Marketing': 2, 'Medical': 3, 'Other': 4, 'Technical Degree': 5}\n",
            "\n",
            "Label encoding for 'maritalstatus':\n",
            "{'Divorced': 0, 'Married': 1, 'Single': 2}\n",
            "\n",
            "Label encoding for 'department':\n",
            "{'Human Resources': 0, 'Research & Development': 1, 'Sales': 2}\n",
            "\n",
            "Label encoding for 'jobrole':\n",
            "{'Healthcare Representative': 0, 'Human Resources': 1, 'Laboratory Technician': 2, 'Manager': 3, 'Manufacturing Director': 4, 'Research Director': 5, 'Research Scientist': 6, 'Sales Executive': 7, 'Sales Representative': 8}\n",
            "\n",
            "Label encoding for 'businesstravel':\n",
            "{'Non-Travel': 0, 'Travel_Frequently': 1, 'Travel_Rarely': 2}\n",
            "\n"
          ]
        }
      ],
      "source": [
        "from sklearn.preprocessing import LabelEncoder\n",
        "\n",
        "# Multi-category columns\n",
        "multi_columns = ['educationfield', 'maritalstatus', 'department', 'jobrole', 'businesstravel']\n",
        "le = LabelEncoder()\n",
        "\n",
        "# Apply label encoding to each column and display the mapping\n",
        "for col in multi_columns:\n",
        "    combined_df[col] = le.fit_transform(combined_df[col])\n",
        "    print(f\"Label encoding for '{col}':\")\n",
        "    print(dict(zip(le.classes_, le.transform(le.classes_))))\n",
        "    print()  # Print an empty line for better readability\n",
        "\n",
        "\n"
      ]
    },
    {
      "cell_type": "code",
      "execution_count": 151,
      "metadata": {
        "colab": {
          "base_uri": "https://localhost:8080/"
        },
        "id": "7OCyxltoEJIq",
        "outputId": "8b46981a-d097-4327-cf4a-fd38e1e3c3bf"
      },
      "outputs": [
        {
          "name": "stdout",
          "output_type": "stream",
          "text": [
            "   monthlyincome  educationfield  attrition  distancefromhome  dailyrate  \\\n",
            "0           5993               1          1                 1       1102   \n",
            "1           5130               1          0                 8        279   \n",
            "2           2090               4          1                 2       1373   \n",
            "3           2909               1          0                 3       1392   \n",
            "4           3468               3          0                 2        591   \n",
            "\n",
            "   joblevel  numcompaniesworked  monthlyrate  stockoptionlevel  education  \\\n",
            "0         2                   8        19479                 0          2   \n",
            "1         2                   1        24907                 1          1   \n",
            "2         1                   6         2396                 0          2   \n",
            "3         1                   1        23159                 0          4   \n",
            "4         1                   9        16632                 1          1   \n",
            "\n",
            "   ...  businesstravel  gender  age  employeecount  relationshipsatisfaction  \\\n",
            "0  ...               2       0   41              1                         1   \n",
            "1  ...               1       1   49              1                         4   \n",
            "2  ...               2       1   37              1                         2   \n",
            "3  ...               1       0   33              1                         3   \n",
            "4  ...               2       1   27              1                         4   \n",
            "\n",
            "   standardhours  jobsatisfaction  yearswithcurrmanager  \\\n",
            "0             80                4                     5   \n",
            "1             80                2                     7   \n",
            "2             80                3                     0   \n",
            "3             80                3                     0   \n",
            "4             80                2                     2   \n",
            "\n",
            "   environmentsatisfaction  jobinvolvement  \n",
            "0                        2               3  \n",
            "1                        3               2  \n",
            "2                        4               2  \n",
            "3                        4               3  \n",
            "4                        1               3  \n",
            "\n",
            "[5 rows x 34 columns]\n"
          ]
        }
      ],
      "source": [
        "# Now check the updated dataframe\n",
        "print(combined_df.head())"
      ]
    },
    {
      "cell_type": "markdown",
      "metadata": {
        "id": "yCcIfF36F6gN"
      },
      "source": [
        "# Label Dictionary\n",
        "- Label encoding for 'educationfield':\n",
        "{'Human Resources': 0, 'Life Sciences': 1, 'Marketing': 2, 'Medical': 3, 'Other': 4, 'Technical Degree': 5}\n",
        "\n",
        "- Label encoding for 'maritalstatus':\n",
        "{'Divorced': 0, 'Married': 1, 'Single': 2}\n",
        "\n",
        "- Label encoding for 'department':\n",
        "{'Human Resources': 0, 'Research & Development': 1, 'Sales': 2}\n",
        "\n",
        "- Label encoding for 'jobrole':\n",
        "{'Healthcare Representative': 0, 'Human Resources': 1, 'Laboratory Technician': 2, 'Manager': 3, 'Manufacturing Director': 4, 'Research Director': 5, 'Research Scientist': 6, 'Sales Executive': 7, 'Sales Representative': 8}\n",
        "\n",
        "- Label encoding for 'businesstravel':\n",
        "{'Non-Travel': 0, 'Travel_Frequently': 1, 'Travel_Rarely': 2}\n",
        "- Yes:1 No:0\n",
        "- Male :1 Female: 0"
      ]
    },
    {
      "cell_type": "code",
      "execution_count": 152,
      "metadata": {
        "colab": {
          "base_uri": "https://localhost:8080/"
        },
        "id": "3Tjqu9ZCDqI5",
        "outputId": "30a2999f-cb16-49dc-f9e2-5417b9b9fbda"
      },
      "outputs": [
        {
          "name": "stdout",
          "output_type": "stream",
          "text": [
            "<class 'pandas.core.frame.DataFrame'>\n",
            "Index: 1470 entries, 0 to 1469\n",
            "Data columns (total 34 columns):\n",
            " #   Column                    Non-Null Count  Dtype\n",
            "---  ------                    --------------  -----\n",
            " 0   monthlyincome             1470 non-null   int64\n",
            " 1   educationfield            1470 non-null   int64\n",
            " 2   attrition                 1470 non-null   int64\n",
            " 3   distancefromhome          1470 non-null   int64\n",
            " 4   dailyrate                 1470 non-null   int64\n",
            " 5   joblevel                  1470 non-null   int64\n",
            " 6   numcompaniesworked        1470 non-null   int64\n",
            " 7   monthlyrate               1470 non-null   int64\n",
            " 8   stockoptionlevel          1470 non-null   int64\n",
            " 9   education                 1470 non-null   int64\n",
            " 10  percentsalaryhike         1470 non-null   int64\n",
            " 11  maritalstatus             1470 non-null   int64\n",
            " 12  worklifebalance           1470 non-null   int64\n",
            " 13  yearsincurrentrole        1470 non-null   int64\n",
            " 14  performancerating         1470 non-null   int64\n",
            " 15  department                1470 non-null   int64\n",
            " 16  yearssincelastpromotion   1470 non-null   int64\n",
            " 17  employeenumber            1470 non-null   int64\n",
            " 18  trainingtimeslastyear     1470 non-null   int64\n",
            " 19  totalworkingyears         1470 non-null   int64\n",
            " 20  jobrole                   1470 non-null   int64\n",
            " 21  overtime                  1470 non-null   int64\n",
            " 22  hourlyrate                1470 non-null   int64\n",
            " 23  yearsatcompany            1470 non-null   int64\n",
            " 24  businesstravel            1470 non-null   int64\n",
            " 25  gender                    1470 non-null   int64\n",
            " 26  age                       1470 non-null   int64\n",
            " 27  employeecount             1470 non-null   int64\n",
            " 28  relationshipsatisfaction  1470 non-null   int64\n",
            " 29  standardhours             1470 non-null   int64\n",
            " 30  jobsatisfaction           1470 non-null   int64\n",
            " 31  yearswithcurrmanager      1470 non-null   int64\n",
            " 32  environmentsatisfaction   1470 non-null   int64\n",
            " 33  jobinvolvement            1470 non-null   int64\n",
            "dtypes: int64(34)\n",
            "memory usage: 402.0 KB\n"
          ]
        }
      ],
      "source": [
        "combined_df.info()"
      ]
    },
    {
      "cell_type": "markdown",
      "metadata": {
        "id": "XL0TlCqoC63q"
      },
      "source": [
        "- Employee Attrition Prediction aims to identify which employees are likely to leave the organization (attrition) based on various features such as job role, salary, work environment, etc.\n",
        "- Predicting attrition helps HR departments take preventive actions to retain valuable employees and reduce turnover costs."
      ]
    }
  ],
  "metadata": {
    "accelerator": "GPU",
    "colab": {
      "gpuType": "T4",
      "provenance": []
    },
    "kernelspec": {
      "display_name": "Python 3",
      "name": "python3"
    },
    "language_info": {
      "name": "python"
    }
  },
  "nbformat": 4,
  "nbformat_minor": 0
}
