{
  "cells": [
    {
      "cell_type": "code",
      "execution_count": 1,
      "metadata": {
        "id": "8iJV5rEh64zo"
      },
      "outputs": [],
      "source": [
        "!pip install -q kaggle\n"
      ]
    },
    {
      "cell_type": "code",
      "execution_count": null,
      "metadata": {},
      "outputs": [],
      "source": [
        "from google.colab import files\n",
        "files.upload() # Commented out for privacy"
      ]
    },
    {
      "cell_type": "code",
      "execution_count": 8,
      "metadata": {
        "id": "EWgyOy5h67uo"
      },
      "outputs": [],
      "source": [
        "!mkdir -p ~/.kaggle\n",
        "!mv kaggle-4.json ~/.kaggle/kaggle.json\n",
        "!chmod 600 ~/.kaggle/kaggle.json"
      ]
    },
    {
      "cell_type": "code",
      "execution_count": 9,
      "metadata": {
        "colab": {
          "base_uri": "https://localhost:8080/"
        },
        "id": "O7OV_pTp7z9D",
        "outputId": "acb93609-8d18-4b75-abe6-b1502d86e29c"
      },
      "outputs": [
        {
          "name": "stdout",
          "output_type": "stream",
          "text": [
            "Downloading from https://www.kaggle.com/api/v1/datasets/download/rishikeshkonapure/hr-analytics-prediction?dataset_version_number=2...\n"
          ]
        },
        {
          "name": "stderr",
          "output_type": "stream",
          "text": [
            "100%|██████████| 50.1k/50.1k [00:00<00:00, 24.8MB/s]"
          ]
        },
        {
          "name": "stdout",
          "output_type": "stream",
          "text": [
            "Extracting files...\n",
            "Path to dataset files: /root/.cache/kagglehub/datasets/rishikeshkonapure/hr-analytics-prediction/versions/2\n"
          ]
        },
        {
          "name": "stderr",
          "output_type": "stream",
          "text": [
            "\n"
          ]
        }
      ],
      "source": [
        "import kagglehub\n",
        "\n",
        "# Download latest version\n",
        "path = kagglehub.dataset_download(\"rishikeshkonapure/hr-analytics-prediction\")\n",
        "\n",
        "print(\"Path to dataset files:\", path)"
      ]
    },
    {
      "cell_type": "code",
      "execution_count": 10,
      "metadata": {
        "id": "PMZPBlxM7z5s"
      },
      "outputs": [],
      "source": [
        "!cp -r /root/.cache/kagglehub/datasets/rishikeshkonapure/hr-analytics-prediction/versions/2 /content/data1"
      ]
    },
    {
      "cell_type": "code",
      "execution_count": 11,
      "metadata": {
        "colab": {
          "base_uri": "https://localhost:8080/"
        },
        "id": "KD6hle5e67sA",
        "outputId": "e3722cb0-b221-401f-f1d8-c057d5156eb7"
      },
      "outputs": [
        {
          "name": "stdout",
          "output_type": "stream",
          "text": [
            "Downloading from https://www.kaggle.com/api/v1/datasets/download/pavansubhasht/ibm-hr-analytics-attrition-dataset?dataset_version_number=1...\n"
          ]
        },
        {
          "name": "stderr",
          "output_type": "stream",
          "text": [
            "100%|██████████| 50.1k/50.1k [00:00<00:00, 31.8MB/s]"
          ]
        },
        {
          "name": "stdout",
          "output_type": "stream",
          "text": [
            "Extracting files...\n",
            "Path to dataset files: /root/.cache/kagglehub/datasets/pavansubhasht/ibm-hr-analytics-attrition-dataset/versions/1\n"
          ]
        },
        {
          "name": "stderr",
          "output_type": "stream",
          "text": [
            "\n"
          ]
        }
      ],
      "source": [
        "import kagglehub\n",
        "\n",
        "# Download latest version\n",
        "path = kagglehub.dataset_download(\"pavansubhasht/ibm-hr-analytics-attrition-dataset\")\n",
        "\n",
        "print(\"Path to dataset files:\", path)"
      ]
    },
    {
      "cell_type": "code",
      "execution_count": 12,
      "metadata": {
        "id": "B8BXS9su67pr"
      },
      "outputs": [],
      "source": [
        "!cp -r /root/.cache/kagglehub/datasets/pavansubhasht/ibm-hr-analytics-attrition-dataset/versions/1 /content/data2"
      ]
    },
    {
      "cell_type": "code",
      "execution_count": 13,
      "metadata": {
        "colab": {
          "base_uri": "https://localhost:8080/"
        },
        "id": "5iTCxMU567le",
        "outputId": "11b06490-5919-447c-9912-7295b2513d3d"
      },
      "outputs": [
        {
          "name": "stdout",
          "output_type": "stream",
          "text": [
            "Downloading from https://www.kaggle.com/api/v1/datasets/download/shivan118/hranalysis?dataset_version_number=1...\n"
          ]
        },
        {
          "name": "stderr",
          "output_type": "stream",
          "text": [
            "100%|██████████| 938k/938k [00:00<00:00, 104MB/s]"
          ]
        },
        {
          "name": "stdout",
          "output_type": "stream",
          "text": [
            "Extracting files...\n",
            "Path to dataset files: /root/.cache/kagglehub/datasets/shivan118/hranalysis/versions/1\n"
          ]
        },
        {
          "name": "stderr",
          "output_type": "stream",
          "text": [
            "\n"
          ]
        }
      ],
      "source": [
        "import kagglehub\n",
        "\n",
        "# Download latest version\n",
        "path = kagglehub.dataset_download(\"shivan118/hranalysis\")\n",
        "\n",
        "print(\"Path to dataset files:\", path)"
      ]
    },
    {
      "cell_type": "code",
      "execution_count": 14,
      "metadata": {
        "id": "Zs6DI01s67io"
      },
      "outputs": [],
      "source": [
        "!cp -r /root/.cache/kagglehub/datasets/shivan118/hranalysis/versions/1 /content/data3"
      ]
    },
    {
      "cell_type": "code",
      "execution_count": 26,
      "metadata": {
        "colab": {
          "base_uri": "https://localhost:8080/"
        },
        "id": "7g5STEFn-d6_",
        "outputId": "37d5356a-fff8-40b2-8cfe-93baa709e70c"
      },
      "outputs": [
        {
          "name": "stdout",
          "output_type": "stream",
          "text": [
            "Downloading from https://www.kaggle.com/api/v1/datasets/download/bhanupratapbiswas/hr-analytics-case-study?dataset_version_number=1...\n"
          ]
        },
        {
          "name": "stderr",
          "output_type": "stream",
          "text": [
            "100%|██████████| 50.1k/50.1k [00:00<00:00, 26.8MB/s]"
          ]
        },
        {
          "name": "stdout",
          "output_type": "stream",
          "text": [
            "Extracting files...\n",
            "Path to dataset files: /root/.cache/kagglehub/datasets/bhanupratapbiswas/hr-analytics-case-study/versions/1\n"
          ]
        },
        {
          "name": "stderr",
          "output_type": "stream",
          "text": [
            "\n"
          ]
        }
      ],
      "source": [
        "import kagglehub\n",
        "\n",
        "# Download latest version\n",
        "path = kagglehub.dataset_download(\"bhanupratapbiswas/hr-analytics-case-study\")\n",
        "\n",
        "print(\"Path to dataset files:\", path)"
      ]
    },
    {
      "cell_type": "code",
      "execution_count": 27,
      "metadata": {
        "id": "QrrjcZiv-d3h"
      },
      "outputs": [],
      "source": [
        "!cp -r /root/.cache/kagglehub/datasets/bhanupratapbiswas/hr-analytics-case-study/versions/1 /content/data4"
      ]
    },
    {
      "cell_type": "markdown",
      "metadata": {},
      "source": [
        "## Displaying the 4 datasets "
      ]
    },
    {
      "cell_type": "code",
      "execution_count": 24,
      "metadata": {
        "colab": {
          "base_uri": "https://localhost:8080/"
        },
        "id": "-ObDrpLP67gR",
        "outputId": "7f4c2095-c8d1-4679-b601-7bbd52631d38"
      },
      "outputs": [
        {
          "name": "stdout",
          "output_type": "stream",
          "text": [
            "Index(['Age', 'Attrition', 'BusinessTravel', 'DailyRate', 'Department',\n",
            "       'DistanceFromHome', 'Education', 'EducationField', 'EmployeeCount',\n",
            "       'EmployeeNumber', 'EnvironmentSatisfaction', 'Gender', 'HourlyRate',\n",
            "       'JobInvolvement', 'JobLevel', 'JobRole', 'JobSatisfaction',\n",
            "       'MaritalStatus', 'MonthlyIncome', 'MonthlyRate', 'NumCompaniesWorked',\n",
            "       'Over18', 'OverTime', 'PercentSalaryHike', 'PerformanceRating',\n",
            "       'RelationshipSatisfaction', 'StandardHours', 'StockOptionLevel',\n",
            "       'TotalWorkingYears', 'TrainingTimesLastYear', 'WorkLifeBalance',\n",
            "       'YearsAtCompany', 'YearsInCurrentRole', 'YearsSinceLastPromotion',\n",
            "       'YearsWithCurrManager'],\n",
            "      dtype='object')\n",
            "(1470, 35)\n"
          ]
        }
      ],
      "source": [
        "import pandas as pd\n",
        "\n",
        "df1 = pd.read_csv('/content/data1/HR-Employee-Attrition.csv')\n",
        "\n",
        "print(df1.columns)\n",
        "print(df1.shape)\n"
      ]
    },
    {
      "cell_type": "code",
      "execution_count": 25,
      "metadata": {
        "colab": {
          "base_uri": "https://localhost:8080/"
        },
        "id": "FK5wA2yB9vo9",
        "outputId": "a5e73bac-3eb0-4b87-d52d-7ce3e1903a46"
      },
      "outputs": [
        {
          "name": "stdout",
          "output_type": "stream",
          "text": [
            "Index(['Age', 'Attrition', 'BusinessTravel', 'DailyRate', 'Department',\n",
            "       'DistanceFromHome', 'Education', 'EducationField', 'EmployeeCount',\n",
            "       'EmployeeNumber', 'EnvironmentSatisfaction', 'Gender', 'HourlyRate',\n",
            "       'JobInvolvement', 'JobLevel', 'JobRole', 'JobSatisfaction',\n",
            "       'MaritalStatus', 'MonthlyIncome', 'MonthlyRate', 'NumCompaniesWorked',\n",
            "       'Over18', 'OverTime', 'PercentSalaryHike', 'PerformanceRating',\n",
            "       'RelationshipSatisfaction', 'StandardHours', 'StockOptionLevel',\n",
            "       'TotalWorkingYears', 'TrainingTimesLastYear', 'WorkLifeBalance',\n",
            "       'YearsAtCompany', 'YearsInCurrentRole', 'YearsSinceLastPromotion',\n",
            "       'YearsWithCurrManager'],\n",
            "      dtype='object')\n",
            "(1470, 35)\n"
          ]
        }
      ],
      "source": [
        "\n",
        "df2 = pd.read_csv('/content/data2/WA_Fn-UseC_-HR-Employee-Attrition.csv')\n",
        "\n",
        "print(df2.columns)\n",
        "print(df2.shape)\n"
      ]
    },
    {
      "cell_type": "code",
      "execution_count": 28,
      "metadata": {
        "colab": {
          "base_uri": "https://localhost:8080/"
        },
        "id": "nIfNpjQC67dr",
        "outputId": "4e5add14-c04e-45f6-ba4e-6234ed591f04"
      },
      "outputs": [
        {
          "name": "stdout",
          "output_type": "stream",
          "text": [
            "Index(['Age', 'Attrition', 'BusinessTravel', 'DailyRate', 'Department',\n",
            "       'DistanceFromHome', 'Education', 'EducationField', 'EmployeeCount',\n",
            "       'EmployeeNumber', 'EnvironmentSatisfaction', 'Gender', 'HourlyRate',\n",
            "       'JobInvolvement', 'JobLevel', 'JobRole', 'JobSatisfaction',\n",
            "       'MaritalStatus', 'MonthlyIncome', 'MonthlyRate', 'NumCompaniesWorked',\n",
            "       'Over18', 'OverTime', 'PercentSalaryHike', 'PerformanceRating',\n",
            "       'RelationshipSatisfaction', 'StandardHours', 'StockOptionLevel',\n",
            "       'TotalWorkingYears', 'TrainingTimesLastYear', 'WorkLifeBalance',\n",
            "       'YearsAtCompany', 'YearsInCurrentRole', 'YearsSinceLastPromotion',\n",
            "       'YearsWithCurrManager'],\n",
            "      dtype='object')\n",
            "(1470, 35)\n"
          ]
        }
      ],
      "source": [
        "\n",
        "df4 = pd.read_csv('/content/data4/hranalytics/WA_Fn-UseC_-HR-Employee-Attrition.csv')\n",
        "\n",
        "print(df4.columns)\n",
        "print(df4.shape)\n"
      ]
    },
    {
      "cell_type": "markdown",
      "metadata": {
        "id": "Uq_l7o7__Ab2"
      },
      "source": [
        "# Combining the dataframes"
      ]
    },
    {
      "cell_type": "code",
      "execution_count": 87,
      "metadata": {
        "id": "-sX84ReB-w3H"
      },
      "outputs": [],
      "source": [
        "# convert to lowercase\n",
        "df1.columns = df1.columns.str.lower()\n",
        "df2.columns = df2.columns.str.lower()\n",
        "df4.columns = df4.columns.str.lower()\n"
      ]
    },
    {
      "cell_type": "code",
      "execution_count": 88,
      "metadata": {
        "colab": {
          "base_uri": "https://localhost:8080/"
        },
        "id": "v5yicecn-w1C",
        "outputId": "afd78da3-36be-4495-c010-0ec773948b38"
      },
      "outputs": [
        {
          "data": {
            "text/plain": [
              "['over18',\n",
              " 'monthlyincome',\n",
              " 'educationfield',\n",
              " 'attrition',\n",
              " 'distancefromhome',\n",
              " 'dailyrate',\n",
              " 'joblevel',\n",
              " 'numcompaniesworked',\n",
              " 'monthlyrate',\n",
              " 'stockoptionlevel',\n",
              " 'education',\n",
              " 'percentsalaryhike',\n",
              " 'maritalstatus',\n",
              " 'worklifebalance',\n",
              " 'yearsincurrentrole',\n",
              " 'performancerating',\n",
              " 'department',\n",
              " 'yearssincelastpromotion',\n",
              " 'employeenumber',\n",
              " 'trainingtimeslastyear',\n",
              " 'totalworkingyears',\n",
              " 'jobrole',\n",
              " 'overtime',\n",
              " 'hourlyrate',\n",
              " 'yearsatcompany',\n",
              " 'businesstravel',\n",
              " 'gender',\n",
              " 'age',\n",
              " 'employeecount',\n",
              " 'relationshipsatisfaction',\n",
              " 'standardhours',\n",
              " 'jobsatisfaction',\n",
              " 'yearswithcurrmanager',\n",
              " 'environmentsatisfaction',\n",
              " 'jobinvolvement']"
            ]
          },
          "execution_count": 88,
          "metadata": {},
          "output_type": "execute_result"
        }
      ],
      "source": [
        "common_columns = list(set(df1.columns) & set(df2.columns) & set(df4.columns))  # Convert set to list and combine the common ones\n",
        "common_columns"
      ]
    },
    {
      "cell_type": "code",
      "execution_count": 89,
      "metadata": {
        "colab": {
          "base_uri": "https://localhost:8080/"
        },
        "id": "R2yVnW-w-wys",
        "outputId": "6237e0f6-be97-4177-9ca9-539d86058130"
      },
      "outputs": [
        {
          "name": "stdout",
          "output_type": "stream",
          "text": [
            "Total number of columns : 35\n"
          ]
        }
      ],
      "source": [
        "print(\"Total number of columns :\",len(common_columns))"
      ]
    },
    {
      "cell_type": "code",
      "execution_count": 90,
      "metadata": {
        "id": "vtITeoVa-wwE"
      },
      "outputs": [],
      "source": [
        "combined_df = pd.concat([df1[common_columns], df2[common_columns], df4[common_columns]], ignore_index=True)\n"
      ]
    },
    {
      "cell_type": "code",
      "execution_count": 91,
      "metadata": {
        "colab": {
          "base_uri": "https://localhost:8080/",
          "height": 253
        },
        "id": "5VC7OY45-wtg",
        "outputId": "8e094819-209f-498b-acda-8715f088f12e"
      },
      "outputs": [
        {
          "data": {
            "application/vnd.google.colaboratory.intrinsic+json": {
              "type": "dataframe",
              "variable_name": "combined_df"
            },
            "text/html": [
              "\n",
              "  <div id=\"df-b5e4aaf6-5e93-434e-abe7-ef05bb73895f\" class=\"colab-df-container\">\n",
              "    <div>\n",
              "<style scoped>\n",
              "    .dataframe tbody tr th:only-of-type {\n",
              "        vertical-align: middle;\n",
              "    }\n",
              "\n",
              "    .dataframe tbody tr th {\n",
              "        vertical-align: top;\n",
              "    }\n",
              "\n",
              "    .dataframe thead th {\n",
              "        text-align: right;\n",
              "    }\n",
              "</style>\n",
              "<table border=\"1\" class=\"dataframe\">\n",
              "  <thead>\n",
              "    <tr style=\"text-align: right;\">\n",
              "      <th></th>\n",
              "      <th>over18</th>\n",
              "      <th>monthlyincome</th>\n",
              "      <th>educationfield</th>\n",
              "      <th>attrition</th>\n",
              "      <th>distancefromhome</th>\n",
              "      <th>dailyrate</th>\n",
              "      <th>joblevel</th>\n",
              "      <th>numcompaniesworked</th>\n",
              "      <th>monthlyrate</th>\n",
              "      <th>stockoptionlevel</th>\n",
              "      <th>...</th>\n",
              "      <th>businesstravel</th>\n",
              "      <th>gender</th>\n",
              "      <th>age</th>\n",
              "      <th>employeecount</th>\n",
              "      <th>relationshipsatisfaction</th>\n",
              "      <th>standardhours</th>\n",
              "      <th>jobsatisfaction</th>\n",
              "      <th>yearswithcurrmanager</th>\n",
              "      <th>environmentsatisfaction</th>\n",
              "      <th>jobinvolvement</th>\n",
              "    </tr>\n",
              "  </thead>\n",
              "  <tbody>\n",
              "    <tr>\n",
              "      <th>0</th>\n",
              "      <td>Y</td>\n",
              "      <td>5993</td>\n",
              "      <td>Life Sciences</td>\n",
              "      <td>Yes</td>\n",
              "      <td>1</td>\n",
              "      <td>1102</td>\n",
              "      <td>2</td>\n",
              "      <td>8</td>\n",
              "      <td>19479</td>\n",
              "      <td>0</td>\n",
              "      <td>...</td>\n",
              "      <td>Travel_Rarely</td>\n",
              "      <td>Female</td>\n",
              "      <td>41</td>\n",
              "      <td>1</td>\n",
              "      <td>1</td>\n",
              "      <td>80</td>\n",
              "      <td>4</td>\n",
              "      <td>5</td>\n",
              "      <td>2</td>\n",
              "      <td>3</td>\n",
              "    </tr>\n",
              "    <tr>\n",
              "      <th>1</th>\n",
              "      <td>Y</td>\n",
              "      <td>5130</td>\n",
              "      <td>Life Sciences</td>\n",
              "      <td>No</td>\n",
              "      <td>8</td>\n",
              "      <td>279</td>\n",
              "      <td>2</td>\n",
              "      <td>1</td>\n",
              "      <td>24907</td>\n",
              "      <td>1</td>\n",
              "      <td>...</td>\n",
              "      <td>Travel_Frequently</td>\n",
              "      <td>Male</td>\n",
              "      <td>49</td>\n",
              "      <td>1</td>\n",
              "      <td>4</td>\n",
              "      <td>80</td>\n",
              "      <td>2</td>\n",
              "      <td>7</td>\n",
              "      <td>3</td>\n",
              "      <td>2</td>\n",
              "    </tr>\n",
              "    <tr>\n",
              "      <th>2</th>\n",
              "      <td>Y</td>\n",
              "      <td>2090</td>\n",
              "      <td>Other</td>\n",
              "      <td>Yes</td>\n",
              "      <td>2</td>\n",
              "      <td>1373</td>\n",
              "      <td>1</td>\n",
              "      <td>6</td>\n",
              "      <td>2396</td>\n",
              "      <td>0</td>\n",
              "      <td>...</td>\n",
              "      <td>Travel_Rarely</td>\n",
              "      <td>Male</td>\n",
              "      <td>37</td>\n",
              "      <td>1</td>\n",
              "      <td>2</td>\n",
              "      <td>80</td>\n",
              "      <td>3</td>\n",
              "      <td>0</td>\n",
              "      <td>4</td>\n",
              "      <td>2</td>\n",
              "    </tr>\n",
              "    <tr>\n",
              "      <th>3</th>\n",
              "      <td>Y</td>\n",
              "      <td>2909</td>\n",
              "      <td>Life Sciences</td>\n",
              "      <td>No</td>\n",
              "      <td>3</td>\n",
              "      <td>1392</td>\n",
              "      <td>1</td>\n",
              "      <td>1</td>\n",
              "      <td>23159</td>\n",
              "      <td>0</td>\n",
              "      <td>...</td>\n",
              "      <td>Travel_Frequently</td>\n",
              "      <td>Female</td>\n",
              "      <td>33</td>\n",
              "      <td>1</td>\n",
              "      <td>3</td>\n",
              "      <td>80</td>\n",
              "      <td>3</td>\n",
              "      <td>0</td>\n",
              "      <td>4</td>\n",
              "      <td>3</td>\n",
              "    </tr>\n",
              "    <tr>\n",
              "      <th>4</th>\n",
              "      <td>Y</td>\n",
              "      <td>3468</td>\n",
              "      <td>Medical</td>\n",
              "      <td>No</td>\n",
              "      <td>2</td>\n",
              "      <td>591</td>\n",
              "      <td>1</td>\n",
              "      <td>9</td>\n",
              "      <td>16632</td>\n",
              "      <td>1</td>\n",
              "      <td>...</td>\n",
              "      <td>Travel_Rarely</td>\n",
              "      <td>Male</td>\n",
              "      <td>27</td>\n",
              "      <td>1</td>\n",
              "      <td>4</td>\n",
              "      <td>80</td>\n",
              "      <td>2</td>\n",
              "      <td>2</td>\n",
              "      <td>1</td>\n",
              "      <td>3</td>\n",
              "    </tr>\n",
              "  </tbody>\n",
              "</table>\n",
              "<p>5 rows × 35 columns</p>\n",
              "</div>\n",
              "    <div class=\"colab-df-buttons\">\n",
              "\n",
              "  <div class=\"colab-df-container\">\n",
              "    <button class=\"colab-df-convert\" onclick=\"convertToInteractive('df-b5e4aaf6-5e93-434e-abe7-ef05bb73895f')\"\n",
              "            title=\"Convert this dataframe to an interactive table.\"\n",
              "            style=\"display:none;\">\n",
              "\n",
              "  <svg xmlns=\"http://www.w3.org/2000/svg\" height=\"24px\" viewBox=\"0 -960 960 960\">\n",
              "    <path d=\"M120-120v-720h720v720H120Zm60-500h600v-160H180v160Zm220 220h160v-160H400v160Zm0 220h160v-160H400v160ZM180-400h160v-160H180v160Zm440 0h160v-160H620v160ZM180-180h160v-160H180v160Zm440 0h160v-160H620v160Z\"/>\n",
              "  </svg>\n",
              "    </button>\n",
              "\n",
              "  <style>\n",
              "    .colab-df-container {\n",
              "      display:flex;\n",
              "      gap: 12px;\n",
              "    }\n",
              "\n",
              "    .colab-df-convert {\n",
              "      background-color: #E8F0FE;\n",
              "      border: none;\n",
              "      border-radius: 50%;\n",
              "      cursor: pointer;\n",
              "      display: none;\n",
              "      fill: #1967D2;\n",
              "      height: 32px;\n",
              "      padding: 0 0 0 0;\n",
              "      width: 32px;\n",
              "    }\n",
              "\n",
              "    .colab-df-convert:hover {\n",
              "      background-color: #E2EBFA;\n",
              "      box-shadow: 0px 1px 2px rgba(60, 64, 67, 0.3), 0px 1px 3px 1px rgba(60, 64, 67, 0.15);\n",
              "      fill: #174EA6;\n",
              "    }\n",
              "\n",
              "    .colab-df-buttons div {\n",
              "      margin-bottom: 4px;\n",
              "    }\n",
              "\n",
              "    [theme=dark] .colab-df-convert {\n",
              "      background-color: #3B4455;\n",
              "      fill: #D2E3FC;\n",
              "    }\n",
              "\n",
              "    [theme=dark] .colab-df-convert:hover {\n",
              "      background-color: #434B5C;\n",
              "      box-shadow: 0px 1px 3px 1px rgba(0, 0, 0, 0.15);\n",
              "      filter: drop-shadow(0px 1px 2px rgba(0, 0, 0, 0.3));\n",
              "      fill: #FFFFFF;\n",
              "    }\n",
              "  </style>\n",
              "\n",
              "    <script>\n",
              "      const buttonEl =\n",
              "        document.querySelector('#df-b5e4aaf6-5e93-434e-abe7-ef05bb73895f button.colab-df-convert');\n",
              "      buttonEl.style.display =\n",
              "        google.colab.kernel.accessAllowed ? 'block' : 'none';\n",
              "\n",
              "      async function convertToInteractive(key) {\n",
              "        const element = document.querySelector('#df-b5e4aaf6-5e93-434e-abe7-ef05bb73895f');\n",
              "        const dataTable =\n",
              "          await google.colab.kernel.invokeFunction('convertToInteractive',\n",
              "                                                    [key], {});\n",
              "        if (!dataTable) return;\n",
              "\n",
              "        const docLinkHtml = 'Like what you see? Visit the ' +\n",
              "          '<a target=\"_blank\" href=https://colab.research.google.com/notebooks/data_table.ipynb>data table notebook</a>'\n",
              "          + ' to learn more about interactive tables.';\n",
              "        element.innerHTML = '';\n",
              "        dataTable['output_type'] = 'display_data';\n",
              "        await google.colab.output.renderOutput(dataTable, element);\n",
              "        const docLink = document.createElement('div');\n",
              "        docLink.innerHTML = docLinkHtml;\n",
              "        element.appendChild(docLink);\n",
              "      }\n",
              "    </script>\n",
              "  </div>\n",
              "\n",
              "\n",
              "<div id=\"df-90afd97b-459a-4ccb-b51a-136bd067cc8a\">\n",
              "  <button class=\"colab-df-quickchart\" onclick=\"quickchart('df-90afd97b-459a-4ccb-b51a-136bd067cc8a')\"\n",
              "            title=\"Suggest charts\"\n",
              "            style=\"display:none;\">\n",
              "\n",
              "<svg xmlns=\"http://www.w3.org/2000/svg\" height=\"24px\"viewBox=\"0 0 24 24\"\n",
              "     width=\"24px\">\n",
              "    <g>\n",
              "        <path d=\"M19 3H5c-1.1 0-2 .9-2 2v14c0 1.1.9 2 2 2h14c1.1 0 2-.9 2-2V5c0-1.1-.9-2-2-2zM9 17H7v-7h2v7zm4 0h-2V7h2v10zm4 0h-2v-4h2v4z\"/>\n",
              "    </g>\n",
              "</svg>\n",
              "  </button>\n",
              "\n",
              "<style>\n",
              "  .colab-df-quickchart {\n",
              "      --bg-color: #E8F0FE;\n",
              "      --fill-color: #1967D2;\n",
              "      --hover-bg-color: #E2EBFA;\n",
              "      --hover-fill-color: #174EA6;\n",
              "      --disabled-fill-color: #AAA;\n",
              "      --disabled-bg-color: #DDD;\n",
              "  }\n",
              "\n",
              "  [theme=dark] .colab-df-quickchart {\n",
              "      --bg-color: #3B4455;\n",
              "      --fill-color: #D2E3FC;\n",
              "      --hover-bg-color: #434B5C;\n",
              "      --hover-fill-color: #FFFFFF;\n",
              "      --disabled-bg-color: #3B4455;\n",
              "      --disabled-fill-color: #666;\n",
              "  }\n",
              "\n",
              "  .colab-df-quickchart {\n",
              "    background-color: var(--bg-color);\n",
              "    border: none;\n",
              "    border-radius: 50%;\n",
              "    cursor: pointer;\n",
              "    display: none;\n",
              "    fill: var(--fill-color);\n",
              "    height: 32px;\n",
              "    padding: 0;\n",
              "    width: 32px;\n",
              "  }\n",
              "\n",
              "  .colab-df-quickchart:hover {\n",
              "    background-color: var(--hover-bg-color);\n",
              "    box-shadow: 0 1px 2px rgba(60, 64, 67, 0.3), 0 1px 3px 1px rgba(60, 64, 67, 0.15);\n",
              "    fill: var(--button-hover-fill-color);\n",
              "  }\n",
              "\n",
              "  .colab-df-quickchart-complete:disabled,\n",
              "  .colab-df-quickchart-complete:disabled:hover {\n",
              "    background-color: var(--disabled-bg-color);\n",
              "    fill: var(--disabled-fill-color);\n",
              "    box-shadow: none;\n",
              "  }\n",
              "\n",
              "  .colab-df-spinner {\n",
              "    border: 2px solid var(--fill-color);\n",
              "    border-color: transparent;\n",
              "    border-bottom-color: var(--fill-color);\n",
              "    animation:\n",
              "      spin 1s steps(1) infinite;\n",
              "  }\n",
              "\n",
              "  @keyframes spin {\n",
              "    0% {\n",
              "      border-color: transparent;\n",
              "      border-bottom-color: var(--fill-color);\n",
              "      border-left-color: var(--fill-color);\n",
              "    }\n",
              "    20% {\n",
              "      border-color: transparent;\n",
              "      border-left-color: var(--fill-color);\n",
              "      border-top-color: var(--fill-color);\n",
              "    }\n",
              "    30% {\n",
              "      border-color: transparent;\n",
              "      border-left-color: var(--fill-color);\n",
              "      border-top-color: var(--fill-color);\n",
              "      border-right-color: var(--fill-color);\n",
              "    }\n",
              "    40% {\n",
              "      border-color: transparent;\n",
              "      border-right-color: var(--fill-color);\n",
              "      border-top-color: var(--fill-color);\n",
              "    }\n",
              "    60% {\n",
              "      border-color: transparent;\n",
              "      border-right-color: var(--fill-color);\n",
              "    }\n",
              "    80% {\n",
              "      border-color: transparent;\n",
              "      border-right-color: var(--fill-color);\n",
              "      border-bottom-color: var(--fill-color);\n",
              "    }\n",
              "    90% {\n",
              "      border-color: transparent;\n",
              "      border-bottom-color: var(--fill-color);\n",
              "    }\n",
              "  }\n",
              "</style>\n",
              "\n",
              "  <script>\n",
              "    async function quickchart(key) {\n",
              "      const quickchartButtonEl =\n",
              "        document.querySelector('#' + key + ' button');\n",
              "      quickchartButtonEl.disabled = true;  // To prevent multiple clicks.\n",
              "      quickchartButtonEl.classList.add('colab-df-spinner');\n",
              "      try {\n",
              "        const charts = await google.colab.kernel.invokeFunction(\n",
              "            'suggestCharts', [key], {});\n",
              "      } catch (error) {\n",
              "        console.error('Error during call to suggestCharts:', error);\n",
              "      }\n",
              "      quickchartButtonEl.classList.remove('colab-df-spinner');\n",
              "      quickchartButtonEl.classList.add('colab-df-quickchart-complete');\n",
              "    }\n",
              "    (() => {\n",
              "      let quickchartButtonEl =\n",
              "        document.querySelector('#df-90afd97b-459a-4ccb-b51a-136bd067cc8a button');\n",
              "      quickchartButtonEl.style.display =\n",
              "        google.colab.kernel.accessAllowed ? 'block' : 'none';\n",
              "    })();\n",
              "  </script>\n",
              "</div>\n",
              "\n",
              "    </div>\n",
              "  </div>\n"
            ],
            "text/plain": [
              "  over18  monthlyincome educationfield attrition  distancefromhome  dailyrate  \\\n",
              "0      Y           5993  Life Sciences       Yes                 1       1102   \n",
              "1      Y           5130  Life Sciences        No                 8        279   \n",
              "2      Y           2090          Other       Yes                 2       1373   \n",
              "3      Y           2909  Life Sciences        No                 3       1392   \n",
              "4      Y           3468        Medical        No                 2        591   \n",
              "\n",
              "   joblevel  numcompaniesworked  monthlyrate  stockoptionlevel  ...  \\\n",
              "0         2                   8        19479                 0  ...   \n",
              "1         2                   1        24907                 1  ...   \n",
              "2         1                   6         2396                 0  ...   \n",
              "3         1                   1        23159                 0  ...   \n",
              "4         1                   9        16632                 1  ...   \n",
              "\n",
              "      businesstravel  gender age  employeecount  relationshipsatisfaction  \\\n",
              "0      Travel_Rarely  Female  41              1                         1   \n",
              "1  Travel_Frequently    Male  49              1                         4   \n",
              "2      Travel_Rarely    Male  37              1                         2   \n",
              "3  Travel_Frequently  Female  33              1                         3   \n",
              "4      Travel_Rarely    Male  27              1                         4   \n",
              "\n",
              "   standardhours jobsatisfaction  yearswithcurrmanager  \\\n",
              "0             80               4                     5   \n",
              "1             80               2                     7   \n",
              "2             80               3                     0   \n",
              "3             80               3                     0   \n",
              "4             80               2                     2   \n",
              "\n",
              "   environmentsatisfaction  jobinvolvement  \n",
              "0                        2               3  \n",
              "1                        3               2  \n",
              "2                        4               2  \n",
              "3                        4               3  \n",
              "4                        1               3  \n",
              "\n",
              "[5 rows x 35 columns]"
            ]
          },
          "execution_count": 91,
          "metadata": {},
          "output_type": "execute_result"
        }
      ],
      "source": [
        "combined_df.head()"
      ]
    },
    {
      "cell_type": "code",
      "execution_count": 92,
      "metadata": {
        "colab": {
          "base_uri": "https://localhost:8080/"
        },
        "id": "AzW2lEZ9-wrS",
        "outputId": "321d6a40-0ce5-4cbd-c8b3-2ed37cfb8982"
      },
      "outputs": [
        {
          "name": "stdout",
          "output_type": "stream",
          "text": [
            "<class 'pandas.core.frame.DataFrame'>\n",
            "RangeIndex: 4410 entries, 0 to 4409\n",
            "Data columns (total 35 columns):\n",
            " #   Column                    Non-Null Count  Dtype \n",
            "---  ------                    --------------  ----- \n",
            " 0   over18                    4410 non-null   object\n",
            " 1   monthlyincome             4410 non-null   int64 \n",
            " 2   educationfield            4410 non-null   object\n",
            " 3   attrition                 4410 non-null   object\n",
            " 4   distancefromhome          4410 non-null   int64 \n",
            " 5   dailyrate                 4410 non-null   int64 \n",
            " 6   joblevel                  4410 non-null   int64 \n",
            " 7   numcompaniesworked        4410 non-null   int64 \n",
            " 8   monthlyrate               4410 non-null   int64 \n",
            " 9   stockoptionlevel          4410 non-null   int64 \n",
            " 10  education                 4410 non-null   int64 \n",
            " 11  percentsalaryhike         4410 non-null   int64 \n",
            " 12  maritalstatus             4410 non-null   object\n",
            " 13  worklifebalance           4410 non-null   int64 \n",
            " 14  yearsincurrentrole        4410 non-null   int64 \n",
            " 15  performancerating         4410 non-null   int64 \n",
            " 16  department                4410 non-null   object\n",
            " 17  yearssincelastpromotion   4410 non-null   int64 \n",
            " 18  employeenumber            4410 non-null   int64 \n",
            " 19  trainingtimeslastyear     4410 non-null   int64 \n",
            " 20  totalworkingyears         4410 non-null   int64 \n",
            " 21  jobrole                   4410 non-null   object\n",
            " 22  overtime                  4410 non-null   object\n",
            " 23  hourlyrate                4410 non-null   int64 \n",
            " 24  yearsatcompany            4410 non-null   int64 \n",
            " 25  businesstravel            4410 non-null   object\n",
            " 26  gender                    4410 non-null   object\n",
            " 27  age                       4410 non-null   int64 \n",
            " 28  employeecount             4410 non-null   int64 \n",
            " 29  relationshipsatisfaction  4410 non-null   int64 \n",
            " 30  standardhours             4410 non-null   int64 \n",
            " 31  jobsatisfaction           4410 non-null   int64 \n",
            " 32  yearswithcurrmanager      4410 non-null   int64 \n",
            " 33  environmentsatisfaction   4410 non-null   int64 \n",
            " 34  jobinvolvement            4410 non-null   int64 \n",
            "dtypes: int64(26), object(9)\n",
            "memory usage: 1.2+ MB\n"
          ]
        }
      ],
      "source": [
        "combined_df.info()"
      ]
    },
    {
      "cell_type": "markdown",
      "metadata": {},
      "source": [
        "###  No Null values... Let's check for duplicates "
      ]
    },
    {
      "cell_type": "code",
      "execution_count": 93,
      "metadata": {
        "colab": {
          "base_uri": "https://localhost:8080/",
          "height": 346
        },
        "id": "6PbM1bdS-woR",
        "outputId": "28bc10d3-5551-4798-9d1b-57688ae15361"
      },
      "outputs": [
        {
          "data": {
            "application/vnd.google.colaboratory.intrinsic+json": {
              "type": "dataframe"
            },
            "text/html": [
              "\n",
              "  <div id=\"df-a759492b-8aa9-4e89-b300-88143b4ec65e\" class=\"colab-df-container\">\n",
              "    <div>\n",
              "<style scoped>\n",
              "    .dataframe tbody tr th:only-of-type {\n",
              "        vertical-align: middle;\n",
              "    }\n",
              "\n",
              "    .dataframe tbody tr th {\n",
              "        vertical-align: top;\n",
              "    }\n",
              "\n",
              "    .dataframe thead th {\n",
              "        text-align: right;\n",
              "    }\n",
              "</style>\n",
              "<table border=\"1\" class=\"dataframe\">\n",
              "  <thead>\n",
              "    <tr style=\"text-align: right;\">\n",
              "      <th></th>\n",
              "      <th>monthlyincome</th>\n",
              "      <th>distancefromhome</th>\n",
              "      <th>dailyrate</th>\n",
              "      <th>joblevel</th>\n",
              "      <th>numcompaniesworked</th>\n",
              "      <th>monthlyrate</th>\n",
              "      <th>stockoptionlevel</th>\n",
              "      <th>education</th>\n",
              "      <th>percentsalaryhike</th>\n",
              "      <th>worklifebalance</th>\n",
              "      <th>...</th>\n",
              "      <th>hourlyrate</th>\n",
              "      <th>yearsatcompany</th>\n",
              "      <th>age</th>\n",
              "      <th>employeecount</th>\n",
              "      <th>relationshipsatisfaction</th>\n",
              "      <th>standardhours</th>\n",
              "      <th>jobsatisfaction</th>\n",
              "      <th>yearswithcurrmanager</th>\n",
              "      <th>environmentsatisfaction</th>\n",
              "      <th>jobinvolvement</th>\n",
              "    </tr>\n",
              "  </thead>\n",
              "  <tbody>\n",
              "    <tr>\n",
              "      <th>count</th>\n",
              "      <td>4410.000000</td>\n",
              "      <td>4410.000000</td>\n",
              "      <td>4410.000000</td>\n",
              "      <td>4410.000000</td>\n",
              "      <td>4410.000000</td>\n",
              "      <td>4410.000000</td>\n",
              "      <td>4410.000000</td>\n",
              "      <td>4410.000000</td>\n",
              "      <td>4410.000000</td>\n",
              "      <td>4410.000000</td>\n",
              "      <td>...</td>\n",
              "      <td>4410.000000</td>\n",
              "      <td>4410.000000</td>\n",
              "      <td>4410.000000</td>\n",
              "      <td>4410.0</td>\n",
              "      <td>4410.000000</td>\n",
              "      <td>4410.0</td>\n",
              "      <td>4410.000000</td>\n",
              "      <td>4410.000000</td>\n",
              "      <td>4410.000000</td>\n",
              "      <td>4410.000000</td>\n",
              "    </tr>\n",
              "    <tr>\n",
              "      <th>mean</th>\n",
              "      <td>6502.931293</td>\n",
              "      <td>9.192517</td>\n",
              "      <td>802.485714</td>\n",
              "      <td>2.063946</td>\n",
              "      <td>2.693197</td>\n",
              "      <td>14313.103401</td>\n",
              "      <td>0.793878</td>\n",
              "      <td>2.912925</td>\n",
              "      <td>15.209524</td>\n",
              "      <td>2.761224</td>\n",
              "      <td>...</td>\n",
              "      <td>65.891156</td>\n",
              "      <td>7.008163</td>\n",
              "      <td>36.923810</td>\n",
              "      <td>1.0</td>\n",
              "      <td>2.712245</td>\n",
              "      <td>80.0</td>\n",
              "      <td>2.728571</td>\n",
              "      <td>4.123129</td>\n",
              "      <td>2.721769</td>\n",
              "      <td>2.729932</td>\n",
              "    </tr>\n",
              "    <tr>\n",
              "      <th>std</th>\n",
              "      <td>4706.888856</td>\n",
              "      <td>8.105026</td>\n",
              "      <td>403.417570</td>\n",
              "      <td>1.106689</td>\n",
              "      <td>2.497442</td>\n",
              "      <td>7116.171484</td>\n",
              "      <td>0.851883</td>\n",
              "      <td>1.023933</td>\n",
              "      <td>3.659108</td>\n",
              "      <td>0.706316</td>\n",
              "      <td>...</td>\n",
              "      <td>20.324816</td>\n",
              "      <td>6.125135</td>\n",
              "      <td>9.133301</td>\n",
              "      <td>0.0</td>\n",
              "      <td>1.080964</td>\n",
              "      <td>0.0</td>\n",
              "      <td>1.102596</td>\n",
              "      <td>3.567327</td>\n",
              "      <td>1.092834</td>\n",
              "      <td>0.711400</td>\n",
              "    </tr>\n",
              "    <tr>\n",
              "      <th>min</th>\n",
              "      <td>1009.000000</td>\n",
              "      <td>1.000000</td>\n",
              "      <td>102.000000</td>\n",
              "      <td>1.000000</td>\n",
              "      <td>0.000000</td>\n",
              "      <td>2094.000000</td>\n",
              "      <td>0.000000</td>\n",
              "      <td>1.000000</td>\n",
              "      <td>11.000000</td>\n",
              "      <td>1.000000</td>\n",
              "      <td>...</td>\n",
              "      <td>30.000000</td>\n",
              "      <td>0.000000</td>\n",
              "      <td>18.000000</td>\n",
              "      <td>1.0</td>\n",
              "      <td>1.000000</td>\n",
              "      <td>80.0</td>\n",
              "      <td>1.000000</td>\n",
              "      <td>0.000000</td>\n",
              "      <td>1.000000</td>\n",
              "      <td>1.000000</td>\n",
              "    </tr>\n",
              "    <tr>\n",
              "      <th>25%</th>\n",
              "      <td>2911.000000</td>\n",
              "      <td>2.000000</td>\n",
              "      <td>465.000000</td>\n",
              "      <td>1.000000</td>\n",
              "      <td>1.000000</td>\n",
              "      <td>8045.000000</td>\n",
              "      <td>0.000000</td>\n",
              "      <td>2.000000</td>\n",
              "      <td>12.000000</td>\n",
              "      <td>2.000000</td>\n",
              "      <td>...</td>\n",
              "      <td>48.000000</td>\n",
              "      <td>3.000000</td>\n",
              "      <td>30.000000</td>\n",
              "      <td>1.0</td>\n",
              "      <td>2.000000</td>\n",
              "      <td>80.0</td>\n",
              "      <td>2.000000</td>\n",
              "      <td>2.000000</td>\n",
              "      <td>2.000000</td>\n",
              "      <td>2.000000</td>\n",
              "    </tr>\n",
              "    <tr>\n",
              "      <th>50%</th>\n",
              "      <td>4919.000000</td>\n",
              "      <td>7.000000</td>\n",
              "      <td>802.000000</td>\n",
              "      <td>2.000000</td>\n",
              "      <td>2.000000</td>\n",
              "      <td>14235.500000</td>\n",
              "      <td>1.000000</td>\n",
              "      <td>3.000000</td>\n",
              "      <td>14.000000</td>\n",
              "      <td>3.000000</td>\n",
              "      <td>...</td>\n",
              "      <td>66.000000</td>\n",
              "      <td>5.000000</td>\n",
              "      <td>36.000000</td>\n",
              "      <td>1.0</td>\n",
              "      <td>3.000000</td>\n",
              "      <td>80.0</td>\n",
              "      <td>3.000000</td>\n",
              "      <td>3.000000</td>\n",
              "      <td>3.000000</td>\n",
              "      <td>3.000000</td>\n",
              "    </tr>\n",
              "    <tr>\n",
              "      <th>75%</th>\n",
              "      <td>8380.000000</td>\n",
              "      <td>14.000000</td>\n",
              "      <td>1157.000000</td>\n",
              "      <td>3.000000</td>\n",
              "      <td>4.000000</td>\n",
              "      <td>20462.000000</td>\n",
              "      <td>1.000000</td>\n",
              "      <td>4.000000</td>\n",
              "      <td>18.000000</td>\n",
              "      <td>3.000000</td>\n",
              "      <td>...</td>\n",
              "      <td>84.000000</td>\n",
              "      <td>9.000000</td>\n",
              "      <td>43.000000</td>\n",
              "      <td>1.0</td>\n",
              "      <td>4.000000</td>\n",
              "      <td>80.0</td>\n",
              "      <td>4.000000</td>\n",
              "      <td>7.000000</td>\n",
              "      <td>4.000000</td>\n",
              "      <td>3.000000</td>\n",
              "    </tr>\n",
              "    <tr>\n",
              "      <th>max</th>\n",
              "      <td>19999.000000</td>\n",
              "      <td>29.000000</td>\n",
              "      <td>1499.000000</td>\n",
              "      <td>5.000000</td>\n",
              "      <td>9.000000</td>\n",
              "      <td>26999.000000</td>\n",
              "      <td>3.000000</td>\n",
              "      <td>5.000000</td>\n",
              "      <td>25.000000</td>\n",
              "      <td>4.000000</td>\n",
              "      <td>...</td>\n",
              "      <td>100.000000</td>\n",
              "      <td>40.000000</td>\n",
              "      <td>60.000000</td>\n",
              "      <td>1.0</td>\n",
              "      <td>4.000000</td>\n",
              "      <td>80.0</td>\n",
              "      <td>4.000000</td>\n",
              "      <td>17.000000</td>\n",
              "      <td>4.000000</td>\n",
              "      <td>4.000000</td>\n",
              "    </tr>\n",
              "  </tbody>\n",
              "</table>\n",
              "<p>8 rows × 26 columns</p>\n",
              "</div>\n",
              "    <div class=\"colab-df-buttons\">\n",
              "\n",
              "  <div class=\"colab-df-container\">\n",
              "    <button class=\"colab-df-convert\" onclick=\"convertToInteractive('df-a759492b-8aa9-4e89-b300-88143b4ec65e')\"\n",
              "            title=\"Convert this dataframe to an interactive table.\"\n",
              "            style=\"display:none;\">\n",
              "\n",
              "  <svg xmlns=\"http://www.w3.org/2000/svg\" height=\"24px\" viewBox=\"0 -960 960 960\">\n",
              "    <path d=\"M120-120v-720h720v720H120Zm60-500h600v-160H180v160Zm220 220h160v-160H400v160Zm0 220h160v-160H400v160ZM180-400h160v-160H180v160Zm440 0h160v-160H620v160ZM180-180h160v-160H180v160Zm440 0h160v-160H620v160Z\"/>\n",
              "  </svg>\n",
              "    </button>\n",
              "\n",
              "  <style>\n",
              "    .colab-df-container {\n",
              "      display:flex;\n",
              "      gap: 12px;\n",
              "    }\n",
              "\n",
              "    .colab-df-convert {\n",
              "      background-color: #E8F0FE;\n",
              "      border: none;\n",
              "      border-radius: 50%;\n",
              "      cursor: pointer;\n",
              "      display: none;\n",
              "      fill: #1967D2;\n",
              "      height: 32px;\n",
              "      padding: 0 0 0 0;\n",
              "      width: 32px;\n",
              "    }\n",
              "\n",
              "    .colab-df-convert:hover {\n",
              "      background-color: #E2EBFA;\n",
              "      box-shadow: 0px 1px 2px rgba(60, 64, 67, 0.3), 0px 1px 3px 1px rgba(60, 64, 67, 0.15);\n",
              "      fill: #174EA6;\n",
              "    }\n",
              "\n",
              "    .colab-df-buttons div {\n",
              "      margin-bottom: 4px;\n",
              "    }\n",
              "\n",
              "    [theme=dark] .colab-df-convert {\n",
              "      background-color: #3B4455;\n",
              "      fill: #D2E3FC;\n",
              "    }\n",
              "\n",
              "    [theme=dark] .colab-df-convert:hover {\n",
              "      background-color: #434B5C;\n",
              "      box-shadow: 0px 1px 3px 1px rgba(0, 0, 0, 0.15);\n",
              "      filter: drop-shadow(0px 1px 2px rgba(0, 0, 0, 0.3));\n",
              "      fill: #FFFFFF;\n",
              "    }\n",
              "  </style>\n",
              "\n",
              "    <script>\n",
              "      const buttonEl =\n",
              "        document.querySelector('#df-a759492b-8aa9-4e89-b300-88143b4ec65e button.colab-df-convert');\n",
              "      buttonEl.style.display =\n",
              "        google.colab.kernel.accessAllowed ? 'block' : 'none';\n",
              "\n",
              "      async function convertToInteractive(key) {\n",
              "        const element = document.querySelector('#df-a759492b-8aa9-4e89-b300-88143b4ec65e');\n",
              "        const dataTable =\n",
              "          await google.colab.kernel.invokeFunction('convertToInteractive',\n",
              "                                                    [key], {});\n",
              "        if (!dataTable) return;\n",
              "\n",
              "        const docLinkHtml = 'Like what you see? Visit the ' +\n",
              "          '<a target=\"_blank\" href=https://colab.research.google.com/notebooks/data_table.ipynb>data table notebook</a>'\n",
              "          + ' to learn more about interactive tables.';\n",
              "        element.innerHTML = '';\n",
              "        dataTable['output_type'] = 'display_data';\n",
              "        await google.colab.output.renderOutput(dataTable, element);\n",
              "        const docLink = document.createElement('div');\n",
              "        docLink.innerHTML = docLinkHtml;\n",
              "        element.appendChild(docLink);\n",
              "      }\n",
              "    </script>\n",
              "  </div>\n",
              "\n",
              "\n",
              "<div id=\"df-2190e100-cec2-46d3-9c2f-acdea7330e33\">\n",
              "  <button class=\"colab-df-quickchart\" onclick=\"quickchart('df-2190e100-cec2-46d3-9c2f-acdea7330e33')\"\n",
              "            title=\"Suggest charts\"\n",
              "            style=\"display:none;\">\n",
              "\n",
              "<svg xmlns=\"http://www.w3.org/2000/svg\" height=\"24px\"viewBox=\"0 0 24 24\"\n",
              "     width=\"24px\">\n",
              "    <g>\n",
              "        <path d=\"M19 3H5c-1.1 0-2 .9-2 2v14c0 1.1.9 2 2 2h14c1.1 0 2-.9 2-2V5c0-1.1-.9-2-2-2zM9 17H7v-7h2v7zm4 0h-2V7h2v10zm4 0h-2v-4h2v4z\"/>\n",
              "    </g>\n",
              "</svg>\n",
              "  </button>\n",
              "\n",
              "<style>\n",
              "  .colab-df-quickchart {\n",
              "      --bg-color: #E8F0FE;\n",
              "      --fill-color: #1967D2;\n",
              "      --hover-bg-color: #E2EBFA;\n",
              "      --hover-fill-color: #174EA6;\n",
              "      --disabled-fill-color: #AAA;\n",
              "      --disabled-bg-color: #DDD;\n",
              "  }\n",
              "\n",
              "  [theme=dark] .colab-df-quickchart {\n",
              "      --bg-color: #3B4455;\n",
              "      --fill-color: #D2E3FC;\n",
              "      --hover-bg-color: #434B5C;\n",
              "      --hover-fill-color: #FFFFFF;\n",
              "      --disabled-bg-color: #3B4455;\n",
              "      --disabled-fill-color: #666;\n",
              "  }\n",
              "\n",
              "  .colab-df-quickchart {\n",
              "    background-color: var(--bg-color);\n",
              "    border: none;\n",
              "    border-radius: 50%;\n",
              "    cursor: pointer;\n",
              "    display: none;\n",
              "    fill: var(--fill-color);\n",
              "    height: 32px;\n",
              "    padding: 0;\n",
              "    width: 32px;\n",
              "  }\n",
              "\n",
              "  .colab-df-quickchart:hover {\n",
              "    background-color: var(--hover-bg-color);\n",
              "    box-shadow: 0 1px 2px rgba(60, 64, 67, 0.3), 0 1px 3px 1px rgba(60, 64, 67, 0.15);\n",
              "    fill: var(--button-hover-fill-color);\n",
              "  }\n",
              "\n",
              "  .colab-df-quickchart-complete:disabled,\n",
              "  .colab-df-quickchart-complete:disabled:hover {\n",
              "    background-color: var(--disabled-bg-color);\n",
              "    fill: var(--disabled-fill-color);\n",
              "    box-shadow: none;\n",
              "  }\n",
              "\n",
              "  .colab-df-spinner {\n",
              "    border: 2px solid var(--fill-color);\n",
              "    border-color: transparent;\n",
              "    border-bottom-color: var(--fill-color);\n",
              "    animation:\n",
              "      spin 1s steps(1) infinite;\n",
              "  }\n",
              "\n",
              "  @keyframes spin {\n",
              "    0% {\n",
              "      border-color: transparent;\n",
              "      border-bottom-color: var(--fill-color);\n",
              "      border-left-color: var(--fill-color);\n",
              "    }\n",
              "    20% {\n",
              "      border-color: transparent;\n",
              "      border-left-color: var(--fill-color);\n",
              "      border-top-color: var(--fill-color);\n",
              "    }\n",
              "    30% {\n",
              "      border-color: transparent;\n",
              "      border-left-color: var(--fill-color);\n",
              "      border-top-color: var(--fill-color);\n",
              "      border-right-color: var(--fill-color);\n",
              "    }\n",
              "    40% {\n",
              "      border-color: transparent;\n",
              "      border-right-color: var(--fill-color);\n",
              "      border-top-color: var(--fill-color);\n",
              "    }\n",
              "    60% {\n",
              "      border-color: transparent;\n",
              "      border-right-color: var(--fill-color);\n",
              "    }\n",
              "    80% {\n",
              "      border-color: transparent;\n",
              "      border-right-color: var(--fill-color);\n",
              "      border-bottom-color: var(--fill-color);\n",
              "    }\n",
              "    90% {\n",
              "      border-color: transparent;\n",
              "      border-bottom-color: var(--fill-color);\n",
              "    }\n",
              "  }\n",
              "</style>\n",
              "\n",
              "  <script>\n",
              "    async function quickchart(key) {\n",
              "      const quickchartButtonEl =\n",
              "        document.querySelector('#' + key + ' button');\n",
              "      quickchartButtonEl.disabled = true;  // To prevent multiple clicks.\n",
              "      quickchartButtonEl.classList.add('colab-df-spinner');\n",
              "      try {\n",
              "        const charts = await google.colab.kernel.invokeFunction(\n",
              "            'suggestCharts', [key], {});\n",
              "      } catch (error) {\n",
              "        console.error('Error during call to suggestCharts:', error);\n",
              "      }\n",
              "      quickchartButtonEl.classList.remove('colab-df-spinner');\n",
              "      quickchartButtonEl.classList.add('colab-df-quickchart-complete');\n",
              "    }\n",
              "    (() => {\n",
              "      let quickchartButtonEl =\n",
              "        document.querySelector('#df-2190e100-cec2-46d3-9c2f-acdea7330e33 button');\n",
              "      quickchartButtonEl.style.display =\n",
              "        google.colab.kernel.accessAllowed ? 'block' : 'none';\n",
              "    })();\n",
              "  </script>\n",
              "</div>\n",
              "\n",
              "    </div>\n",
              "  </div>\n"
            ],
            "text/plain": [
              "       monthlyincome  distancefromhome    dailyrate     joblevel  \\\n",
              "count    4410.000000       4410.000000  4410.000000  4410.000000   \n",
              "mean     6502.931293          9.192517   802.485714     2.063946   \n",
              "std      4706.888856          8.105026   403.417570     1.106689   \n",
              "min      1009.000000          1.000000   102.000000     1.000000   \n",
              "25%      2911.000000          2.000000   465.000000     1.000000   \n",
              "50%      4919.000000          7.000000   802.000000     2.000000   \n",
              "75%      8380.000000         14.000000  1157.000000     3.000000   \n",
              "max     19999.000000         29.000000  1499.000000     5.000000   \n",
              "\n",
              "       numcompaniesworked   monthlyrate  stockoptionlevel    education  \\\n",
              "count         4410.000000   4410.000000       4410.000000  4410.000000   \n",
              "mean             2.693197  14313.103401          0.793878     2.912925   \n",
              "std              2.497442   7116.171484          0.851883     1.023933   \n",
              "min              0.000000   2094.000000          0.000000     1.000000   \n",
              "25%              1.000000   8045.000000          0.000000     2.000000   \n",
              "50%              2.000000  14235.500000          1.000000     3.000000   \n",
              "75%              4.000000  20462.000000          1.000000     4.000000   \n",
              "max              9.000000  26999.000000          3.000000     5.000000   \n",
              "\n",
              "       percentsalaryhike  worklifebalance  ...   hourlyrate  yearsatcompany  \\\n",
              "count        4410.000000      4410.000000  ...  4410.000000     4410.000000   \n",
              "mean           15.209524         2.761224  ...    65.891156        7.008163   \n",
              "std             3.659108         0.706316  ...    20.324816        6.125135   \n",
              "min            11.000000         1.000000  ...    30.000000        0.000000   \n",
              "25%            12.000000         2.000000  ...    48.000000        3.000000   \n",
              "50%            14.000000         3.000000  ...    66.000000        5.000000   \n",
              "75%            18.000000         3.000000  ...    84.000000        9.000000   \n",
              "max            25.000000         4.000000  ...   100.000000       40.000000   \n",
              "\n",
              "               age  employeecount  relationshipsatisfaction  standardhours  \\\n",
              "count  4410.000000         4410.0               4410.000000         4410.0   \n",
              "mean     36.923810            1.0                  2.712245           80.0   \n",
              "std       9.133301            0.0                  1.080964            0.0   \n",
              "min      18.000000            1.0                  1.000000           80.0   \n",
              "25%      30.000000            1.0                  2.000000           80.0   \n",
              "50%      36.000000            1.0                  3.000000           80.0   \n",
              "75%      43.000000            1.0                  4.000000           80.0   \n",
              "max      60.000000            1.0                  4.000000           80.0   \n",
              "\n",
              "       jobsatisfaction  yearswithcurrmanager  environmentsatisfaction  \\\n",
              "count      4410.000000           4410.000000              4410.000000   \n",
              "mean          2.728571              4.123129                 2.721769   \n",
              "std           1.102596              3.567327                 1.092834   \n",
              "min           1.000000              0.000000                 1.000000   \n",
              "25%           2.000000              2.000000                 2.000000   \n",
              "50%           3.000000              3.000000                 3.000000   \n",
              "75%           4.000000              7.000000                 4.000000   \n",
              "max           4.000000             17.000000                 4.000000   \n",
              "\n",
              "       jobinvolvement  \n",
              "count     4410.000000  \n",
              "mean         2.729932  \n",
              "std          0.711400  \n",
              "min          1.000000  \n",
              "25%          2.000000  \n",
              "50%          3.000000  \n",
              "75%          3.000000  \n",
              "max          4.000000  \n",
              "\n",
              "[8 rows x 26 columns]"
            ]
          },
          "execution_count": 93,
          "metadata": {},
          "output_type": "execute_result"
        }
      ],
      "source": [
        "combined_df.describe()"
      ]
    },
    {
      "cell_type": "markdown",
      "metadata": {
        "id": "uQ-sFwFFAgnN"
      },
      "source": [
        "# Checking For Duplicates"
      ]
    },
    {
      "cell_type": "code",
      "execution_count": 94,
      "metadata": {
        "colab": {
          "base_uri": "https://localhost:8080/"
        },
        "id": "IY6S1QsA-wl7",
        "outputId": "4279b70a-dd85-4ec7-898b-f27d715c5777"
      },
      "outputs": [
        {
          "data": {
            "text/plain": [
              "2940"
            ]
          },
          "execution_count": 94,
          "metadata": {},
          "output_type": "execute_result"
        }
      ],
      "source": [
        "combined_df.duplicated().sum()"
      ]
    },
    {
      "cell_type": "code",
      "execution_count": 95,
      "metadata": {
        "colab": {
          "base_uri": "https://localhost:8080/"
        },
        "id": "jGptDoCX-wjE",
        "outputId": "c98b2771-2b96-4298-f7b5-e15c232df9bc"
      },
      "outputs": [
        {
          "name": "stdout",
          "output_type": "stream",
          "text": [
            "Number of duplicates after dropping: 0\n"
          ]
        }
      ],
      "source": [
        "combined_df = combined_df.drop_duplicates()\n",
        "print(\"Number of duplicates after dropping:\", combined_df.duplicated().sum())"
      ]
    },
    {
      "cell_type": "markdown",
      "metadata": {
        "id": "3ppBl5nCCZ53"
      },
      "source": [
        "## 3 diverse problem statements to explore different perspectives:\n",
        "\n",
        "- Employee Attrition Analysis: To understand and predict attrition rates.\n",
        "- Employee Satisfaction and Retention: To improve satisfaction and retention.\n",
        "- Performance and Compensation: To analyze if compensation aligns with performance.\n"
      ]
    },
    {
      "cell_type": "code",
      "execution_count": 96,
      "metadata": {
        "colab": {
          "base_uri": "https://localhost:8080/"
        },
        "id": "rv2JF6_MA3lO",
        "outputId": "1cd5cd8e-6d4d-49ad-8dc9-f43701f2e2a0"
      },
      "outputs": [
        {
          "name": "stdout",
          "output_type": "stream",
          "text": [
            "Non-numeric columns: Index(['over18', 'educationfield', 'attrition', 'maritalstatus', 'department',\n",
            "       'jobrole', 'overtime', 'businesstravel', 'gender'],\n",
            "      dtype='object')\n"
          ]
        }
      ],
      "source": [
        "# Identifying  all non-numeric columns (including object types)\n",
        "non_numeric_cols = combined_df.select_dtypes(exclude=['number']).columns\n",
        "print(\"Non-numeric columns:\", non_numeric_cols)"
      ]
    },
    {
      "cell_type": "code",
      "execution_count": 97,
      "metadata": {
        "colab": {
          "base_uri": "https://localhost:8080/"
        },
        "id": "uvjdCx-9DqT0",
        "outputId": "824efdaf-df46-4a9c-b04b-28707f90ecf5"
      },
      "outputs": [
        {
          "name": "stdout",
          "output_type": "stream",
          "text": [
            "Unique values in 'over18':\n",
            "['Y']\n",
            "\n",
            "Unique values in 'educationfield':\n",
            "['Life Sciences' 'Other' 'Medical' 'Marketing' 'Technical Degree'\n",
            " 'Human Resources']\n",
            "\n",
            "Unique values in 'attrition':\n",
            "['Yes' 'No']\n",
            "\n",
            "Unique values in 'maritalstatus':\n",
            "['Single' 'Married' 'Divorced']\n",
            "\n",
            "Unique values in 'department':\n",
            "['Sales' 'Research & Development' 'Human Resources']\n",
            "\n",
            "Unique values in 'jobrole':\n",
            "['Sales Executive' 'Research Scientist' 'Laboratory Technician'\n",
            " 'Manufacturing Director' 'Healthcare Representative' 'Manager'\n",
            " 'Sales Representative' 'Research Director' 'Human Resources']\n",
            "\n",
            "Unique values in 'overtime':\n",
            "['Yes' 'No']\n",
            "\n",
            "Unique values in 'businesstravel':\n",
            "['Travel_Rarely' 'Travel_Frequently' 'Non-Travel']\n",
            "\n",
            "Unique values in 'gender':\n",
            "['Female' 'Male']\n",
            "\n"
          ]
        }
      ],
      "source": [
        "for col in non_numeric_cols:\n",
        "    print(f\"Unique values in '{col}':\")\n",
        "    print(combined_df[col].unique())\n",
        "    print()"
      ]
    },
    {
      "cell_type": "markdown",
      "metadata": {},
      "source": [
        "### One Hot encoding Categorical variables"
      ]
    }
  ],
  "metadata": {
    "accelerator": "GPU",
    "colab": {
      "gpuType": "T4",
      "provenance": []
    },
    "kernelspec": {
      "display_name": "Python 3",
      "name": "python3"
    },
    "language_info": {
      "name": "python"
    }
  },
  "nbformat": 4,
  "nbformat_minor": 0
}
